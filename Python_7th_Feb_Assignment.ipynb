{
 "cells": [
  {
   "cell_type": "markdown",
   "id": "6e5f0cfa-5820-4acc-8d48-aa90b50ec553",
   "metadata": {},
   "source": [
    "Q1. You are writing code for a company. The requirement of the company is that you create a python function that will check whether the password entered by the user is correct or not. The function should take the password as input and return the string “Valid Password” if the entered password follows the below-given password guidelines else it should return “Invalid Password”.\n",
    "Note: \n",
    "1. The Password should contain at least two uppercase letters and at least two lowercase letters.\n",
    "2. The Password should contain at least a number and three special characters.\n",
    "3. The length of the password should be 10 characters long."
   ]
  },
  {
   "cell_type": "code",
   "execution_count": 16,
   "id": "e342e147-2a1e-47a3-97da-a9d436348c08",
   "metadata": {},
   "outputs": [],
   "source": [
    "def password(s1):\n",
    "    count_upper = 0\n",
    "    count_lower = 0\n",
    "    count_special = 0\n",
    "    count_num = 0\n",
    "    pass_len = len(s1)\n",
    "    for char in s1:\n",
    "        if char.isupper():\n",
    "            count_upper +=1\n",
    "        if char.islower():\n",
    "            count_lower +=1\n",
    "        if char.isdigit():\n",
    "            count_num +=1\n",
    "        if not (char.isalnum() or char==\" \"):\n",
    "            count_special +=1\n",
    "            \n",
    "    return (count_upper>=2 and count_lower>=2 and count_num>=1 and count_special>=3) and (pass_len>=10)"
   ]
  },
  {
   "cell_type": "code",
   "execution_count": 21,
   "id": "ef48cb93-658f-4465-96b9-de5c7d3c46d9",
   "metadata": {},
   "outputs": [],
   "source": [
    "s1 = \"ABCxyz@12%34$56\""
   ]
  },
  {
   "cell_type": "code",
   "execution_count": 22,
   "id": "e94d4e01-bf75-4576-b3aa-46ad6789536c",
   "metadata": {},
   "outputs": [
    {
     "data": {
      "text/plain": [
       "True"
      ]
     },
     "execution_count": 22,
     "metadata": {},
     "output_type": "execute_result"
    }
   ],
   "source": [
    "password(s1)"
   ]
  },
  {
   "cell_type": "markdown",
   "id": "df4b7acf-5155-41a1-8c8d-bc9f8391bde7",
   "metadata": {},
   "source": [
    "Q2. Solve the below-given questions using at least one of the following:\n",
    "1. Lambda function\n",
    "2. Filter function\n",
    "3. Map function\n",
    "4. List Comprehension\n",
    "    1. Check if the string starts with a particular letter.\n",
    "    2. Check if the string is numeric.\n",
    "    3. Sort a list of tuples having fruit names and their quantity. [(\"mango\",99),(\"orange\",80), (\"grapes\", 1000)]\n",
    "    4. Find the squares of numbers from 1 to 10.\n",
    "    5. Find the cube root of numbers from 1 to 10.\n",
    "    6. Check if a given number is even.\n",
    "    7. Filter odd numbers from the given list. [1,2,3,4,5,6,7,8,9,10]\n",
    "    8. Sort a list of integers into positive and negative integers lists. [1,2,3,4,5,6,-1,-2,-3,-4,-5,0]"
   ]
  },
  {
   "cell_type": "code",
   "execution_count": 27,
   "id": "18e1b3c2-dacc-48e8-8fcf-70cd8c66e21f",
   "metadata": {},
   "outputs": [],
   "source": [
    "#A\n",
    "starts_a = lambda x: x[0]=='a'"
   ]
  },
  {
   "cell_type": "code",
   "execution_count": 31,
   "id": "75c2269a-fb4d-4b78-81e0-7cc1824aced4",
   "metadata": {},
   "outputs": [
    {
     "data": {
      "text/plain": [
       "True"
      ]
     },
     "execution_count": 31,
     "metadata": {},
     "output_type": "execute_result"
    }
   ],
   "source": [
    "starts_a('ankita')"
   ]
  },
  {
   "cell_type": "code",
   "execution_count": 32,
   "id": "7dc57da9-90c5-4cd4-bbd7-231326e837e4",
   "metadata": {},
   "outputs": [
    {
     "data": {
      "text/plain": [
       "False"
      ]
     },
     "execution_count": 32,
     "metadata": {},
     "output_type": "execute_result"
    }
   ],
   "source": [
    "starts_a('babita')"
   ]
  },
  {
   "cell_type": "code",
   "execution_count": 33,
   "id": "aa068264-da5f-40d9-b983-87fe532103f4",
   "metadata": {},
   "outputs": [
    {
     "name": "stdout",
     "output_type": "stream",
     "text": [
      "The string is numeric\n"
     ]
    }
   ],
   "source": [
    "#B\n",
    "is_numeric = lambda s: s.isnumeric()\n",
    "\n",
    "string = \"12345\"\n",
    "if is_numeric(string):\n",
    "    print(\"The string is numeric\")\n",
    "else:\n",
    "    print(\"The string is not numeric\")"
   ]
  },
  {
   "cell_type": "code",
   "execution_count": 37,
   "id": "d5be3fc6-bdb4-4088-971d-8ccacbe482b7",
   "metadata": {},
   "outputs": [
    {
     "data": {
      "text/plain": [
       "[('grapes', 1000), ('mango', 99), ('orange', 80)]"
      ]
     },
     "execution_count": 37,
     "metadata": {},
     "output_type": "execute_result"
    }
   ],
   "source": [
    "#C\n",
    "list_ = [(\"mango\",99),(\"orange\",80), (\"grapes\", 1000)]\n",
    "\n",
    "list_sort = lambda x : sorted(x)\n",
    "\n",
    "list_sort(list_)"
   ]
  },
  {
   "cell_type": "code",
   "execution_count": 41,
   "id": "7c5952b2-9c18-44c6-b447-3eaee283c1fa",
   "metadata": {},
   "outputs": [
    {
     "data": {
      "text/plain": [
       "[1, 4, 9, 16, 25, 36, 49, 64, 81, 100]"
      ]
     },
     "execution_count": 41,
     "metadata": {},
     "output_type": "execute_result"
    }
   ],
   "source": [
    "#D\n",
    "sq = list(map(lambda x: x*x, list_1))\n",
    "list_1 = [1,2,3,4,5,6,7,8,9,10]\n",
    "sq"
   ]
  },
  {
   "cell_type": "code",
   "execution_count": 44,
   "id": "37e6614d-5ed7-4dfa-8613-d02e4e33fd21",
   "metadata": {},
   "outputs": [
    {
     "data": {
      "text/plain": [
       "[1.0,\n",
       " 1.2599210498948732,\n",
       " 1.4422495703074083,\n",
       " 1.5874010519681994,\n",
       " 1.7099759466766968,\n",
       " 1.8171205928321397,\n",
       " 1.912931182772389,\n",
       " 2.0,\n",
       " 2.080083823051904,\n",
       " 2.154434690031884]"
      ]
     },
     "execution_count": 44,
     "metadata": {},
     "output_type": "execute_result"
    }
   ],
   "source": [
    "#E\n",
    "cube_rt = list(map(lambda x:x**(1/3), list_1))\n",
    "cube_rt"
   ]
  },
  {
   "cell_type": "code",
   "execution_count": 47,
   "id": "67310854-9125-42b8-b769-e2129cc2905e",
   "metadata": {},
   "outputs": [
    {
     "data": {
      "text/plain": [
       "True"
      ]
     },
     "execution_count": 47,
     "metadata": {},
     "output_type": "execute_result"
    }
   ],
   "source": [
    "#F\n",
    "num_even = lambda x: True if x%2==0 else False\n",
    "\n",
    "num_even(2)"
   ]
  },
  {
   "cell_type": "code",
   "execution_count": 49,
   "id": "e2f275aa-b12a-48e5-89a3-b759d8fe6f93",
   "metadata": {},
   "outputs": [
    {
     "data": {
      "text/plain": [
       "[1, 3, 5, 7, 9]"
      ]
     },
     "execution_count": 49,
     "metadata": {},
     "output_type": "execute_result"
    }
   ],
   "source": [
    "#G\n",
    "list(filter(lambda x:x%2!=0, list_1))"
   ]
  },
  {
   "cell_type": "code",
   "execution_count": 51,
   "id": "f3640d7e-f02f-471c-a695-3a1c77ca2a27",
   "metadata": {},
   "outputs": [
    {
     "name": "stdout",
     "output_type": "stream",
     "text": [
      "Positive numbers: [1, 2, 3, 4, 5, 6]\n",
      "Negative numbers: [-1, -2, -3, -4, -5]\n"
     ]
    }
   ],
   "source": [
    "#H\n",
    "numbers = [1, 2, 3, 4, 5, 6, -1, -2, -3, -4, -5, 0]\n",
    "\n",
    "positive_numbers = list(filter(lambda x: x > 0, numbers))\n",
    "negative_numbers = list(filter(lambda x: x < 0, numbers))\n",
    "\n",
    "print(\"Positive numbers:\", positive_numbers)\n",
    "print(\"Negative numbers:\", negative_numbers)\n"
   ]
  },
  {
   "cell_type": "code",
   "execution_count": null,
   "id": "3f1a6b9e-e8e3-4413-b8c1-b06ded121f3a",
   "metadata": {},
   "outputs": [],
   "source": []
  }
 ],
 "metadata": {
  "kernelspec": {
   "display_name": "Python 3 (ipykernel)",
   "language": "python",
   "name": "python3"
  },
  "language_info": {
   "codemirror_mode": {
    "name": "ipython",
    "version": 3
   },
   "file_extension": ".py",
   "mimetype": "text/x-python",
   "name": "python",
   "nbconvert_exporter": "python",
   "pygments_lexer": "ipython3",
   "version": "3.9.13"
  }
 },
 "nbformat": 4,
 "nbformat_minor": 5
}
